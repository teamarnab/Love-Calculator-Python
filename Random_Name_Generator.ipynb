{
  "nbformat": 4,
  "nbformat_minor": 0,
  "metadata": {
    "colab": {
      "provenance": [],
      "authorship_tag": "ABX9TyMh/pMOPTsBEkYG/1o7Epq/",
      "include_colab_link": true
    },
    "kernelspec": {
      "name": "python3",
      "display_name": "Python 3"
    },
    "language_info": {
      "name": "python"
    }
  },
  "cells": [
    {
      "cell_type": "markdown",
      "metadata": {
        "id": "view-in-github",
        "colab_type": "text"
      },
      "source": [
        "<a href=\"https://colab.research.google.com/github/teamarnab/Love-Calculator-Python/blob/main/Random_Name_Generator.ipynb\" target=\"_parent\"><img src=\"https://colab.research.google.com/assets/colab-badge.svg\" alt=\"Open In Colab\"/></a>"
      ]
    },
    {
      "cell_type": "code",
      "execution_count": 2,
      "metadata": {
        "colab": {
          "base_uri": "https://localhost:8080/"
        },
        "id": "RRxrbjlrFwrv",
        "outputId": "2a3837a6-ff8f-4bfd-f93a-b2005d750420"
      },
      "outputs": [
        {
          "name": "stdout",
          "output_type": "stream",
          "text": [
            "Would you like to generate a psudoname? (Y/N):y\n",
            "Your psudoname is Suman Debnath\n",
            "Would you like to generate a psudoname? (Y/N):Y\n",
            "Your psudoname is Arit Samal\n",
            "Would you like to generate a psudoname? (Y/N):5\n",
            "Invalid input! Please try again!\n",
            "Would you like to generate a psudoname? (Y/N):n\n"
          ]
        }
      ],
      "source": [
        "import random\n",
        "\n",
        "#Making a Tuple of First names\n",
        "first = ('arnab', 'soumya', 'sandeep', 'rohan', 'suman', 'nandini', 'subho', 'koyel', 'doyel',\n",
        "         'bikram', 'arit', 'hindol', 'rajarshi', 'shankhadeep', 'rajdeep', 'rakesh', 'kumaresh')\n",
        "\n",
        "#making a Tuple of Last names\n",
        "last = ('gupta', 'banerjee', 'debnath', 'roy', 'biswas', 'kar gupta', 'mukherjee', 'chakraborty',\n",
        "        'samal', 'kr madhu', 'roy chowdhury', 'chatterjee', 'nath', 'jaiswal', 'ghosh')\n",
        "\n",
        "\n",
        "while True:\n",
        "  message = input(\"Would you like to generate a psudoname? (Y/N):\")\n",
        "  if message == \"Y\" or message == \"y\":\n",
        "    first_name = random.choice(first)\n",
        "    last_name = random.choice(last)\n",
        "    print(f\"Your psudoname is {first_name.title()} {last_name.title()}\")\n",
        "  elif message == \"N\" or message == \"n\":\n",
        "    break\n",
        "  else:\n",
        "    print(\"Invalid input! Please try again!\")\n",
        "    continue\n"
      ]
    },
    {
      "cell_type": "code",
      "source": [],
      "metadata": {
        "id": "n05QM-VCJEPP"
      },
      "execution_count": null,
      "outputs": []
    }
  ]
}